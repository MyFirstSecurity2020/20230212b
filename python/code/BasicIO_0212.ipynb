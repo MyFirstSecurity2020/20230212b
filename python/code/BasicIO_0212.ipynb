{
  "nbformat": 4,
  "nbformat_minor": 0,
  "metadata": {
    "colab": {
      "provenance": []
    },
    "kernelspec": {
      "name": "python3",
      "display_name": "Python 3"
    },
    "language_info": {
      "name": "python"
    }
  },
  "cells": [
    {
      "cell_type": "markdown",
      "source": [
        "# Python 0212\n",
        "\n",
        "## Hello \n",
        "\n",
        "https://github.com/MyFirstSecurity2020/20230211/blob/main/README.md"
      ],
      "metadata": {
        "id": "Ku95pzCpzxG6"
      }
    },
    {
      "cell_type": "markdown",
      "source": [
        "This sentence uses `$` delimiters to show math inline:  $\\sqrt{3x-1}+(1+x)^2$"
      ],
      "metadata": {
        "id": "mxj-AoGbN9yW"
      }
    },
    {
      "cell_type": "code",
      "source": [],
      "metadata": {
        "id": "R2pHn1qaOEtM"
      },
      "execution_count": null,
      "outputs": []
    },
    {
      "cell_type": "code",
      "execution_count": 1,
      "metadata": {
        "colab": {
          "base_uri": "https://localhost:8080/"
        },
        "id": "AnG6mZBazlcU",
        "outputId": "1b02b0a2-9671-44e1-fc1e-2d1e4b85e700"
      },
      "outputs": [
        {
          "output_type": "stream",
          "name": "stdout",
          "text": [
            "Enter your name:helloP\n",
            "Hello, helloP\n"
          ]
        }
      ],
      "source": [
        "x = input('Enter your name:')\n",
        "print('Hello, ' + x)"
      ]
    },
    {
      "cell_type": "code",
      "source": [
        "type(x)"
      ],
      "metadata": {
        "colab": {
          "base_uri": "https://localhost:8080/"
        },
        "id": "Po30FP9X0AJp",
        "outputId": "6fe0153b-4e44-4428-ff1a-632591298a6f"
      },
      "execution_count": 2,
      "outputs": [
        {
          "output_type": "execute_result",
          "data": {
            "text/plain": [
              "str"
            ]
          },
          "metadata": {},
          "execution_count": 2
        }
      ]
    },
    {
      "cell_type": "markdown",
      "source": [
        "TypeError\n",
        "\n",
        "Data Type\n",
        "\n"
      ],
      "metadata": {
        "id": "HlJc_qZe0YLw"
      }
    },
    {
      "cell_type": "code",
      "source": [
        "a = eval(input(\"請輸入：\"))\n",
        "b = a+1\n",
        "b"
      ],
      "metadata": {
        "colab": {
          "base_uri": "https://localhost:8080/"
        },
        "id": "bhzM3K7z0KAp",
        "outputId": "d9d9668b-ba55-4060-e4a6-42695f8c94dc"
      },
      "execution_count": 5,
      "outputs": [
        {
          "name": "stdout",
          "output_type": "stream",
          "text": [
            "請輸入：80\n"
          ]
        },
        {
          "output_type": "execute_result",
          "data": {
            "text/plain": [
              "81"
            ]
          },
          "metadata": {},
          "execution_count": 5
        }
      ]
    },
    {
      "cell_type": "code",
      "source": [
        "a,b = eval(input(\"請輸入兩個數位：\"))\n",
        "a,b"
      ],
      "metadata": {
        "colab": {
          "base_uri": "https://localhost:8080/"
        },
        "id": "DE6VYTfy0wwK",
        "outputId": "a053bc8a-b5eb-4344-acc1-4743609f6826"
      },
      "execution_count": 7,
      "outputs": [
        {
          "name": "stdout",
          "output_type": "stream",
          "text": [
            "請輸入兩個數位：101,111\n"
          ]
        },
        {
          "output_type": "execute_result",
          "data": {
            "text/plain": [
              "(101, 111)"
            ]
          },
          "metadata": {},
          "execution_count": 7
        }
      ]
    },
    {
      "cell_type": "code",
      "source": [
        "print(\"Happy : %2d, Python : %5.2f\" % (1, 05.333))"
      ],
      "metadata": {
        "colab": {
          "base_uri": "https://localhost:8080/"
        },
        "id": "1J9atQn71Eew",
        "outputId": "eff9abb0-b6a2-4cb9-a6d4-fe7e9096d8c3"
      },
      "execution_count": 8,
      "outputs": [
        {
          "output_type": "stream",
          "name": "stdout",
          "text": [
            "Happy :  1, Python :  5.33\n"
          ]
        }
      ]
    },
    {
      "cell_type": "markdown",
      "source": [
        "25 = 3*8 + 1  ==> 31 "
      ],
      "metadata": {
        "id": "PlcqP6Vl1Vkf"
      }
    },
    {
      "cell_type": "code",
      "source": [
        "print(\"%7.3o\" % (25))"
      ],
      "metadata": {
        "colab": {
          "base_uri": "https://localhost:8080/"
        },
        "id": "w36pW3Rl1T6w",
        "outputId": "cc3f97ea-d67e-4c38-aee1-17fc3e53b809"
      },
      "execution_count": 9,
      "outputs": [
        {
          "output_type": "stream",
          "name": "stdout",
          "text": [
            "    031\n"
          ]
        }
      ]
    },
    {
      "cell_type": "code",
      "source": [
        "print(\"%10.3E\" % (356.08977))"
      ],
      "metadata": {
        "colab": {
          "base_uri": "https://localhost:8080/"
        },
        "id": "Zktxo0Bl1iUA",
        "outputId": "d03b7c5c-dd6c-4165-acc0-477c2a4386ab"
      },
      "execution_count": 10,
      "outputs": [
        {
          "output_type": "stream",
          "name": "stdout",
          "text": [
            " 3.561E+02\n"
          ]
        }
      ]
    },
    {
      "cell_type": "code",
      "source": [
        "print('I love {} for \"{}!\"'.format('Python', 'CTFer'))"
      ],
      "metadata": {
        "colab": {
          "base_uri": "https://localhost:8080/"
        },
        "id": "hn3AqJbM1uGY",
        "outputId": "3877050f-233f-490c-f707-26281a664bba"
      },
      "execution_count": 11,
      "outputs": [
        {
          "output_type": "stream",
          "name": "stdout",
          "text": [
            "I love Python for \"CTFer!\"\n"
          ]
        }
      ]
    },
    {
      "cell_type": "code",
      "source": [
        "!python3 --version"
      ],
      "metadata": {
        "colab": {
          "base_uri": "https://localhost:8080/"
        },
        "id": "zYGM_L_X6ylq",
        "outputId": "ef2f8f4b-8a52-4cc8-b084-b06e5c4bbd54"
      },
      "execution_count": 13,
      "outputs": [
        {
          "output_type": "stream",
          "name": "stdout",
          "text": [
            "Python 3.8.10\n"
          ]
        }
      ]
    },
    {
      "cell_type": "code",
      "source": [
        "year= eval(input(\"請輸入年\"))\n",
        "\n",
        "if ((year%400==0) or (year%4==0 and year%100!=0)):\n",
        "  print(\"{0} 是閏年\".format(year))\n",
        "else:\n",
        "  print(\"{0} 不是閏年\".format(year))"
      ],
      "metadata": {
        "colab": {
          "base_uri": "https://localhost:8080/"
        },
        "id": "Cx6zCjzY-Y7V",
        "outputId": "0e0ea842-7866-4133-db52-626fb582dc8a"
      },
      "execution_count": 23,
      "outputs": [
        {
          "output_type": "stream",
          "name": "stdout",
          "text": [
            "請輸入年2100\n",
            "2100 不是閏年\n"
          ]
        }
      ]
    },
    {
      "cell_type": "code",
      "source": [
        "lang = input(\"What's the programming language you want to learn? \")\n",
        "\n",
        "match lang:\n",
        "    case \"JavaScript\":\n",
        "        print(\"You can become a web developer.\")\n",
        "\n",
        "    case \"Python\":\n",
        "        print(\"You can become a Data Scientist\")\n",
        "\n",
        "    case \"PHP\":\n",
        "        print(\"You can become a backend developer\")\n",
        "    \n",
        "    case \"Solidity\":\n",
        "        print(\"You can become a Blockchain developer\")\n",
        "\n",
        "    case \"Java\":\n",
        "        print(\"You can become a mobile app developer\")\n",
        "    case _:\n",
        "        print(\"The language doesn't matter, what matters is solving problems.\")"
      ],
      "metadata": {
        "colab": {
          "base_uri": "https://localhost:8080/",
          "height": 132
        },
        "id": "Ed5tlTYa6fJJ",
        "outputId": "423f8a32-268a-42c0-ea91-68c30857cfdd"
      },
      "execution_count": 12,
      "outputs": [
        {
          "output_type": "error",
          "ename": "SyntaxError",
          "evalue": "ignored",
          "traceback": [
            "\u001b[0;36m  File \u001b[0;32m\"<ipython-input-12-93730fafe686>\"\u001b[0;36m, line \u001b[0;32m3\u001b[0m\n\u001b[0;31m    match lang:\u001b[0m\n\u001b[0m          ^\u001b[0m\n\u001b[0;31mSyntaxError\u001b[0m\u001b[0;31m:\u001b[0m invalid syntax\n"
          ]
        }
      ]
    }
  ]
}